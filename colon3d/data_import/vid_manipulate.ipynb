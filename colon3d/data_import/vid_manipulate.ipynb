{
 "cells": [
  {
   "cell_type": "code",
   "execution_count": 1,
   "metadata": {},
   "outputs": [],
   "source": [
    "import argparse\n",
    "from pathlib import Path\n",
    "\n",
    "import matplotlib.pyplot as plt\n",
    "import numpy as np\n",
    "\n",
    "from colon3d.alg.tracks_loader import DetectionsTracker\n",
    "from colon3d.util.data_util import SceneLoader\n",
    "from colon3d.util.general_util import (\n",
    "    create_empty_folder,\n",
    "    save_video_from_frames_list,\n",
    ")\n"
   ]
  },
  {
   "cell_type": "code",
   "execution_count": 2,
   "metadata": {},
   "outputs": [],
   "source": [
    "load_scene_path = Path(\"/mnt/disk1/data/my_videos/Example_4\")\n",
    "save_scene_path = Path(\"/mnt/disk1/data/my_videos/Example_4_processed\")\n",
    "alg_fov_ratio = 0.8\n",
    "n_frames_lim = 0"
   ]
  },
  {
   "cell_type": "code",
   "execution_count": 3,
   "metadata": {},
   "outputs": [
    {
     "name": "stdout",
     "output_type": "stream",
     "text": [
      "Loading meta-data from /mnt/disk1/data/my_videos/Example_4/meta_data.yaml\n",
      "Frames per second: 30\n",
      "Original image size: 1225x966\n",
      "Algorithm-view image size: 773x774\n",
      "Using all 751 frames of the video...\n",
      "Loaded detections from:  /mnt/disk1/data/my_videos/Example_4/Tracks.csv\n"
     ]
    }
   ],
   "source": [
    "scene_loader = SceneLoader(\n",
    "    scene_path=load_scene_path,\n",
    "    n_frames_lim=n_frames_lim,\n",
    "    alg_fov_ratio=alg_fov_ratio,\n",
    ")\n",
    "\n",
    "detections_tracker = DetectionsTracker(\n",
    "    scene_path=load_scene_path,\n",
    "    scene_loader=scene_loader,\n",
    ")"
   ]
  },
  {
   "cell_type": "code",
   "execution_count": 4,
   "metadata": {},
   "outputs": [
    {
     "data": {
      "text/plain": [
       "Text(0, 0.5, 'Number of tracks')"
      ]
     },
     "execution_count": 4,
     "metadata": {},
     "output_type": "execute_result"
    }
   ],
   "source": [
    "\n",
    "n_frames = scene_loader.n_frames\n",
    "\n",
    "n_tracks_per_frame = np.zeros(n_frames)\n",
    "for i_frame in range(n_frames):\n",
    "    # Get the targets tracks in the current frame inside the algorithmic field of view\n",
    "    tracks = detections_tracker.get_tracks_in_frame(i_frame, frame_type=\"alg_view\")\n",
    "    n_tracks_per_frame[i_frame] = len(tracks)\n",
    "    \n",
    "\n",
    "\n",
    "# plot the number of tracks per frame\n",
    "plt.figure()\n",
    "plt.plot(n_tracks_per_frame)\n",
    "plt.xlabel(\"Frame index\")\n",
    "plt.ylabel(\"Number of tracks\")\n",
    "\n"
   ]
  },
  {
   "cell_type": "code",
   "execution_count": null,
   "metadata": {},
   "outputs": [],
   "source": [
    "\n",
    "# loop over all frames and saved them as images\n",
    "\n",
    "rgb_frames = []\n",
    "fps = scene_loader.fps\n",
    "\n",
    "# save the frames\n",
    "frames_out_path = save_scene_path / \"Frames\"\n",
    "create_empty_folder(frames_out_path, save_overwrite=False)\n",
    "\n",
    "for i_frame in range(n_frames):\n",
    "    print(f\"i_frame={i_frame}/{n_frames}\", end=\"\\r\", flush=True)\n",
    "    im = scene_loader.get_frame_at_index(i_frame, frame_type=\"full\")\n",
    "    rgb_frames.append(im)\n",
    "\n",
    "# save the video\n",
    "save_video_from_frames_list(save_path=save_scene_path / \"Video\", frames=rgb_frames, fps=fps)\n"
   ]
  }
 ],
 "metadata": {
  "kernelspec": {
   "display_name": "Python 3",
   "language": "python",
   "name": "python3"
  },
  "language_info": {
   "codemirror_mode": {
    "name": "ipython",
    "version": 3
   },
   "file_extension": ".py",
   "mimetype": "text/x-python",
   "name": "python",
   "nbconvert_exporter": "python",
   "pygments_lexer": "ipython3",
   "version": "3.11.4"
  }
 },
 "nbformat": 4,
 "nbformat_minor": 4
}
